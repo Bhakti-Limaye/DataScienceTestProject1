{
 "cells": [
  {
   "cell_type": "markdown",
   "id": "e7316ddb",
   "metadata": {},
   "source": [
    "# Data Science Tools and Ecosystem"
   ]
  },
  {
   "cell_type": "markdown",
   "id": "f2c25805",
   "metadata": {},
   "source": [
    "## In this notebook, Data Science Tools and Ecosystem are summerised"
   ]
  },
  {
   "cell_type": "markdown",
   "id": "685008cc",
   "metadata": {},
   "source": [
    "## Objectives:\n",
    "- List popular languages for Data Science\n",
    "- List commonly used libraries used by Data scientists\n",
    "- List development environment open source tools used in Data Science\n",
    "- Few examples of evaluating arithmetic expressions in Python"
   ]
  },
  {
   "cell_type": "markdown",
   "id": "a9df97c1",
   "metadata": {},
   "source": [
    "### Some of the popular languages that Data Scientists use are:"
   ]
  },
  {
   "cell_type": "markdown",
   "id": "49c1de94",
   "metadata": {},
   "source": [
    "1. Python\n",
    "2. R\n",
    "3. Julia"
   ]
  },
  {
   "cell_type": "markdown",
   "id": "8d8927bb",
   "metadata": {},
   "source": [
    "### Some of the commonly used libraries used by Data Scientists include:\n",
    "1. Pandas\n",
    "2. NumPy\n",
    "3. PyTorch"
   ]
  },
  {
   "cell_type": "markdown",
   "id": "c78995a3",
   "metadata": {},
   "source": [
    "## Data Science Tools\n",
    "| Development environment open source tools used in Data Science | \n",
    "|:--------:|\n",
    "|  RStudio   |\n",
    "|  Apache Spark   | \n",
    "|  Tensor Flow   | "
   ]
  },
  {
   "cell_type": "markdown",
   "id": "e26db896",
   "metadata": {},
   "source": [
    "### Below are a few examples of evaluating arithmetic expressions in Python"
   ]
  },
  {
   "cell_type": "code",
   "execution_count": 1,
   "id": "b3ac5d51",
   "metadata": {},
   "outputs": [
    {
     "data": {
      "text/plain": [
       "17"
      ]
     },
     "execution_count": 1,
     "metadata": {},
     "output_type": "execute_result"
    }
   ],
   "source": [
    "# This a simple arithmetic expression to mutiply then add integers\n",
    "(3*4)+5"
   ]
  },
  {
   "cell_type": "code",
   "execution_count": 6,
   "id": "8906969a",
   "metadata": {},
   "outputs": [
    {
     "name": "stdout",
     "output_type": "stream",
     "text": [
      "200 minutes can be represented as 3hours 20 minutes\n"
     ]
    }
   ],
   "source": [
    "# This will convert 200 minutes to hours by diving by 60\n",
    "# Hours : \n",
    "h = 200//60\n",
    "# minutes :\n",
    "m = 200%60\n",
    "print(\"200 minutes can be represented as \"+str(h)+\"hours \"+str(m)+\" minutes\")"
   ]
  },
  {
   "cell_type": "markdown",
   "id": "c997f483",
   "metadata": {},
   "source": [
    "## Author \n",
    "Bhakti Limaye"
   ]
  },
  {
   "cell_type": "code",
   "execution_count": null,
   "id": "6d270758",
   "metadata": {},
   "outputs": [],
   "source": []
  }
 ],
 "metadata": {
  "kernelspec": {
   "display_name": "Python 3 (ipykernel)",
   "language": "python",
   "name": "python3"
  },
  "language_info": {
   "codemirror_mode": {
    "name": "ipython",
    "version": 3
   },
   "file_extension": ".py",
   "mimetype": "text/x-python",
   "name": "python",
   "nbconvert_exporter": "python",
   "pygments_lexer": "ipython3",
   "version": "3.11.4"
  }
 },
 "nbformat": 4,
 "nbformat_minor": 5
}
